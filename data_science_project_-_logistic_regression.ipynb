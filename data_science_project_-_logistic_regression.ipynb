{
 "cells": [
  {
   "cell_type": "markdown",
   "metadata": {},
   "source": [
    "# CS 4661 Project: Spooky Author Identification (Logistic Regression Method)\n",
    "### By Margarita Nuridjanian,"
   ]
  },
  {
   "cell_type": "code",
   "execution_count": 120,
   "metadata": {},
   "outputs": [],
   "source": [
    "# Importing the required packages and libraries\n",
    "import pandas as pd\n",
    "import numpy as np\n",
    "from sklearn.feature_extraction.text import CountVectorizer\n",
    "from sklearn.naive_bayes import MultinomialNB\n",
    "from sklearn.pipeline import Pipeline\n",
    "from sklearn.metrics import accuracy_score\n",
    "from sklearn.model_selection import train_test_split\n",
    "from sklearn.tree import DecisionTreeClassifier\n",
    "from sklearn.linear_model import LogisticRegression"
   ]
  },
  {
   "cell_type": "code",
   "execution_count": 121,
   "metadata": {},
   "outputs": [
    {
     "data": {
      "text/html": [
       "<div>\n",
       "<style scoped>\n",
       "    .dataframe tbody tr th:only-of-type {\n",
       "        vertical-align: middle;\n",
       "    }\n",
       "\n",
       "    .dataframe tbody tr th {\n",
       "        vertical-align: top;\n",
       "    }\n",
       "\n",
       "    .dataframe thead th {\n",
       "        text-align: right;\n",
       "    }\n",
       "</style>\n",
       "<table border=\"1\" class=\"dataframe\">\n",
       "  <thead>\n",
       "    <tr style=\"text-align: right;\">\n",
       "      <th></th>\n",
       "      <th>id</th>\n",
       "      <th>text</th>\n",
       "    </tr>\n",
       "  </thead>\n",
       "  <tbody>\n",
       "    <tr>\n",
       "      <th>0</th>\n",
       "      <td>id02310</td>\n",
       "      <td>Still, as I urged our leaving Ireland with suc...</td>\n",
       "    </tr>\n",
       "    <tr>\n",
       "      <th>1</th>\n",
       "      <td>id24541</td>\n",
       "      <td>If a fire wanted fanning, it could readily be ...</td>\n",
       "    </tr>\n",
       "    <tr>\n",
       "      <th>2</th>\n",
       "      <td>id00134</td>\n",
       "      <td>And when they had broken down the frail door t...</td>\n",
       "    </tr>\n",
       "    <tr>\n",
       "      <th>3</th>\n",
       "      <td>id27757</td>\n",
       "      <td>While I was thinking how I should possibly man...</td>\n",
       "    </tr>\n",
       "    <tr>\n",
       "      <th>4</th>\n",
       "      <td>id04081</td>\n",
       "      <td>I am not sure to what limit his knowledge may ...</td>\n",
       "    </tr>\n",
       "  </tbody>\n",
       "</table>\n",
       "</div>"
      ],
      "text/plain": [
       "        id                                               text\n",
       "0  id02310  Still, as I urged our leaving Ireland with suc...\n",
       "1  id24541  If a fire wanted fanning, it could readily be ...\n",
       "2  id00134  And when they had broken down the frail door t...\n",
       "3  id27757  While I was thinking how I should possibly man...\n",
       "4  id04081  I am not sure to what limit his knowledge may ..."
      ]
     },
     "execution_count": 121,
     "metadata": {},
     "output_type": "execute_result"
    }
   ],
   "source": [
    "# Reading test CSV file directly from Web, and store it in a pandas DataFrame:\n",
    "test_df=pd.read_csv(\"https://raw.githubusercontent.com/MargaritaNuridj/csula_data_science/master/spooky-author-identification/test.csv\")\n",
    "\n",
    "# Print first 5 rows\n",
    "test_df.head()"
   ]
  },
  {
   "cell_type": "code",
   "execution_count": null,
   "metadata": {},
   "outputs": [],
   "source": []
  },
  {
   "cell_type": "code",
   "execution_count": 122,
   "metadata": {
    "scrolled": true
   },
   "outputs": [
    {
     "name": "stdout",
     "output_type": "stream",
     "text": [
      "['EAP' 'EAP' 'HPL' ... 'HPL' 'HPL' 'EAP']\n"
     ]
    }
   ],
   "source": [
    "# Reading train CSV file directly from Web, and store it in a pandas DataFrame:\n",
    "train_df = pd.read_csv('https://raw.githubusercontent.com/MargaritaNuridj/csula_data_science/master/spooky-author-identification/train.csv')\n",
    "\n",
    "# Print first 5 rows\n",
    "train_df.head()\n",
    "y_predict_lr = my_logreg.predict(X_tt_new)\n",
    "print(y_predict_lr)"
   ]
  },
  {
   "cell_type": "code",
   "execution_count": 123,
   "metadata": {},
   "outputs": [
    {
     "data": {
      "text/plain": [
       "EAP    7900\n",
       "MWS    6044\n",
       "HPL    5635\n",
       "Name: author, dtype: int64"
      ]
     },
     "execution_count": 123,
     "metadata": {},
     "output_type": "execute_result"
    }
   ],
   "source": [
    "# Find unique value counts of each author\n",
    "train_df['author'].value_counts()\n",
    "\n",
    "# train_df = train_df[(train_df.author=='MWS') | (train_df.author=='EAP')]"
   ]
  },
  {
   "cell_type": "code",
   "execution_count": 124,
   "metadata": {},
   "outputs": [],
   "source": [
    "# Split into features and labels\n",
    "X_train = train_df['text']\n",
    "y_train = train_df['author']\n",
    "X_test = test_df['text']"
   ]
  },
  {
   "cell_type": "code",
   "execution_count": null,
   "metadata": {},
   "outputs": [],
   "source": [
    "# Transform text data into vectors to run it through machine learning model\n",
    "vectorizer = CountVectorizer(stop_words='english')\n",
    "# vectorizer = CountVectorizer()\n",
    "\n",
    "corpus = pd.concat([train_df['text'], test_df['text']])\n",
    "vectorizer.fit(corpus)"
   ]
  },
  {
   "cell_type": "code",
   "execution_count": null,
   "metadata": {},
   "outputs": [],
   "source": [
    "# Randomly splitting the original dataset into training set and testing set\n",
    "X_tr, X_tt, y_tr, y_tt = train_test_split(X_train, y_train, test_size=0.3, random_state=2)\n",
    "\n",
    "X_tr_new = vectorizer.transform(X_tr)\n",
    "X_tt_new = vectorizer.transform(X_tt)"
   ]
  },
  {
   "cell_type": "code",
   "execution_count": null,
   "metadata": {
    "scrolled": false
   },
   "outputs": [],
   "source": [
    "# \"my_logreg\" is instantiated as an \"object\" of LogisticClassifier \"class\" \n",
    "my_logreg = LogisticRegression()\n",
    "my_logreg.fit(X_tr_new, y_tr)"
   ]
  },
  {
   "cell_type": "code",
   "execution_count": null,
   "metadata": {},
   "outputs": [],
   "source": [
    "# Predicting the Binary Label:\n",
    "y_predict_lr = my_logreg.predict(X_tt_new)\n",
    "print(y_predict_lr)"
   ]
  },
  {
   "cell_type": "code",
   "execution_count": null,
   "metadata": {},
   "outputs": [],
   "source": [
    "# Estimating the probability (likelihood) of Each Label: \n",
    "y_pred_proba_lr = my_logreg.predict_proba(X_tt_new)\n",
    "y_pred_proba_lr"
   ]
  },
  {
   "cell_type": "code",
   "execution_count": null,
   "metadata": {},
   "outputs": [],
   "source": [
    "# Find accuracy score\n",
    "score_lr = accuracy_score(y_tt, y_predict_lr)\n",
    "print(\"Logistic Regression accuracy:\", score_lr)"
   ]
  },
  {
   "cell_type": "code",
   "execution_count": null,
   "metadata": {},
   "outputs": [],
   "source": [
    "# Write data to CSV file\n",
    "submission_lr = pd.DataFrame(y_pred_proba_lr, columns=[\"EAP\",\"HPL\",\"MWS\"])\n",
    "# submission_lr = pd.DataFrame(y_pred_proba_lr, columns=[\"EAP\",\"MWS\"])\n",
    "submission_lr['id'] = test_df['id']\n",
    "submission_lr = submission_lr[[\"id\",\"EAP\",\"HPL\",\"MWS\"]]\n",
    "# submission_lr = submission_lr[[\"id\",\"EAP\",\"HPL\",\"MWS\"]]\n",
    "submission_lr.to_csv('submission_lr.csv', index=None)"
   ]
  },
  {
   "cell_type": "markdown",
   "metadata": {},
   "source": [
    "# Notes:\n",
    "## With stop word and no filter accuracy is 0.7906026557711952\n",
    "## If we do not include stop word accuracy is 0.8255022131426626\n",
    "## If we do not include stop word and HPL the accuracy is 0.8697418738049714"
   ]
  },
  {
   "cell_type": "code",
   "execution_count": null,
   "metadata": {},
   "outputs": [],
   "source": [
    "import pandas as pd\n",
    "from sklearn.feature_extraction.text import CountVectorizer\n",
    "from sklearn.model_selection import train_test_split\n",
    "from sklearn.linear_model import LogisticRegression\n",
    "from sklearn.metrics import accuracy_score\n",
    "\n",
    "\n",
    "\n",
    "\n",
    "# Reading test CSV file directly from Web, and store it in a pandas DataFrame:\n",
    "test_df=pd.read_csv(\"https://raw.githubusercontent.com/MargaritaNuridj/csula_data_science/master/spooky-author-identification/test.csv\")\n",
    "\n",
    "# Print first 5 rows\n",
    "test_df.head()\n",
    "# Reading train CSV file directly from Web, and store it in a pandas DataFrame:\n",
    "train_df = pd.read_csv('https://raw.githubusercontent.com/MargaritaNuridj/csula_data_science/master/spooky-author-identification/train.csv')\n",
    "\n",
    "# Print first 5 rows\n",
    "train_df.head()\n",
    "X_train = train_df['text']\n",
    "y_train = train_df['author']\n",
    "X_test = test_df['text']\n",
    "vectorizer = CountVectorizer()\n",
    "\n",
    "corpus = pd.concat([train_df['text'], test_df['text']])\n",
    "vectorizer.fit(corpus)\n",
    "X_tr, X_tt, y_tr, y_tt = train_test_split(X_train, y_train, test_size=0.3, random_state=2)\n",
    "\n",
    "X_tr_new = vectorizer.transform(X_tr)\n",
    "X_tt_new = vectorizer.transform(X_tt)\n",
    "# \"my_decisiontree\" is instantiated as an \"object\" of LogisticClassifier \"class\" \n",
    "my_logreg = LogisticRegression()\n",
    "my_logreg.fit(X_tr_new, y_tr)\n",
    "# Predicting the Binary Label:\n",
    "y_predict_lr = my_logreg.predict(X_tt_new)\n",
    "# print(y_predict_lr)\n",
    "# Find accuracy score\n",
    "score_lr = accuracy_score(y_tt, y_predict_lr)\n",
    "print(\"Logistic Regression accuracy:\", score_lr)"
   ]
  },
  {
   "cell_type": "code",
   "execution_count": null,
   "metadata": {},
   "outputs": [],
   "source": [
    "# Reading test CSV file directly from Web, and store it in a pandas DataFrame:\n",
    "test_df=pd.read_csv(\"https://raw.githubusercontent.com/MargaritaNuridj/csula_data_science/master/spooky-author-identification/test.csv\")\n",
    "\n",
    "# Print first 5 rows\n",
    "test_df.head()\n",
    "# Reading train CSV file directly from Web, and store it in a pandas DataFrame:\n",
    "train_df = pd.read_csv('https://raw.githubusercontent.com/MargaritaNuridj/csula_data_science/master/spooky-author-identification/train.csv')\n",
    "\n",
    "# Print first 5 rows\n",
    "train_df.head()\n",
    "train_df = train_df[(train_df.author=='MWS') | (train_df.author=='EAP')]\n",
    "X_train = train_df['text']\n",
    "y_train = train_df['author']\n",
    "X_test = test_df['text']\n",
    "vectorizer = CountVectorizer()\n",
    "\n",
    "corpus = pd.concat([train_df['text'], test_df['text']])\n",
    "vectorizer.fit(corpus)\n",
    "X_tr, X_tt, y_tr, y_tt = train_test_split(X_train, y_train, test_size=0.3, random_state=2)\n",
    "\n",
    "X_tr_new = vectorizer.transform(X_tr)\n",
    "X_tt_new = vectorizer.transform(X_tt)\n",
    "# \"my_decisiontree\" is instantiated as an \"object\" of LogisticClassifier \"class\" \n",
    "my_logreg = LogisticRegression()\n",
    "my_logreg.fit(X_tr_new, y_tr)\n",
    "# Predicting the Binary Label:\n",
    "y_predict_lr = my_logreg.predict(X_tt_new)\n",
    "# print(y_predict_lr)\n",
    "# Find accuracy score\n",
    "score_lr = accuracy_score(y_tt, y_predict_lr)\n",
    "print(\"Logistic Regression accuracy:\", score_lr)"
   ]
  },
  {
   "cell_type": "code",
   "execution_count": null,
   "metadata": {},
   "outputs": [],
   "source": []
  },
  {
   "cell_type": "code",
   "execution_count": null,
   "metadata": {},
   "outputs": [],
   "source": []
  }
 ],
 "metadata": {
  "kernelspec": {
   "display_name": "Python 3",
   "language": "python",
   "name": "python3"
  },
  "language_info": {
   "codemirror_mode": {
    "name": "ipython",
    "version": 3
   },
   "file_extension": ".py",
   "mimetype": "text/x-python",
   "name": "python",
   "nbconvert_exporter": "python",
   "pygments_lexer": "ipython3",
   "version": "3.7.3"
  }
 },
 "nbformat": 4,
 "nbformat_minor": 2
}
